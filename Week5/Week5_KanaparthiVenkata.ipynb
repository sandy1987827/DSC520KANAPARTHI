{
 "cells": [
  {
   "cell_type": "code",
   "execution_count": 5,
   "metadata": {},
   "outputs": [
    {
     "name": "stdout",
     "output_type": "stream",
     "text": [
      "height5_10:  0.48963902786483265\n",
      "height6_1:  0.8317337108107857\n",
      "0.3420946829459531\n"
     ]
    }
   ],
   "source": [
    "# Week 5\n",
    "# Author : Venkata Kanaparthi\n",
    "# Date : 4/17/2021\n",
    "\n",
    "import scipy.stats\n",
    "\n",
    "# Exercise 5-1\n",
    "\n",
    "def EvalNormalCDF(x, mu=0, sigma=1):\n",
    "    return scipy.stats.norm.cdf(x, loc=mu, scale=sigma)\n",
    "\n",
    "mu = 178\n",
    "sigma = 7.7\n",
    "\n",
    "# 5'10\"\n",
    "height5_10=EvalNormalCDF(177.8, mu, sigma)\n",
    "# 6'1\"\n",
    "height6_1=EvalNormalCDF(185.4, mu, sigma)\n",
    "\n",
    "print(\"height5_10: \",height5_10)\n",
    "print(\"height6_1: \",height6_1)\n",
    "\n",
    "# Between 5'10\" and 6'1\"\n",
    "print(height6_1 - height5_10)"
   ]
  },
  {
   "cell_type": "code",
   "execution_count": 7,
   "metadata": {},
   "outputs": [
    {
     "name": "stdout",
     "output_type": "stream",
     "text": [
      "Median:  1.5034066538560549\n",
      "Mean:  2.428571428571429\n",
      "Fraction of Population shorter than mean:  0.778739697565288\n",
      "Taller than 1 km:  55602.976430479954\n",
      "Expect the tallest person to be:  1.0525455861201714\n"
     ]
    }
   ],
   "source": [
    "# Exercise 5-2\n",
    "\n",
    "alpha = 1.7\n",
    "xmin = 1\n",
    "dist = scipy.stats.pareto(b=alpha, scale=xmin)\n",
    "print(\"Median: \", dist.median())\n",
    "\n",
    "print(\"Mean: \",dist.mean())\n",
    "\n",
    "print(\"Fraction of Population shorter than mean: \", dist.cdf(dist.mean()))\n",
    "\n",
    "print(\"Taller than 1 km: \", (1 - dist.cdf(1000)) * 7e9)\n",
    "\n",
    "print(\"Expect the tallest person to be: \", dist.sf(600000) * 7e9)"
   ]
  },
  {
   "cell_type": "code",
   "execution_count": 52,
   "metadata": {},
   "outputs": [
    {
     "data": {
      "image/png": "[encoded data removed]",
      "text/plain": [
       "<Figure size 432x288 with 1 Axes>"
      ]
     },
     "metadata": {
      "needs_background": "light"
     },
     "output_type": "display_data"
    }
   ],
   "source": [
    "import hinc\n",
    "import numpy as np\n",
    "import thinkstats2\n",
    "import thinkplot\n",
    "from __future__ import print_function, division\n",
    "\n",
    "%matplotlib inline\n",
    "\n",
    "def Mean(xs):\n",
    "    return RawMoment(xs, 1)\n",
    "\n",
    "def RawMoment(xs, k):\n",
    "    return sum(x**k for x in xs) / len(xs)\n",
    "\n",
    "def Skewness(xs):\n",
    "    return StandardizedMoment(xs, 3)\n",
    "\n",
    "def Median(xs):\n",
    "    cdf = thinkstats2.Cdf(xs)\n",
    "    return cdf.Value(0.5)\n",
    "\n",
    "def StandardizedMoment(xs, k):\n",
    "    var = CentralMoment(xs, 2)\n",
    "    std = np.sqrt(var)\n",
    "    return CentralMoment(xs, k) / std**k\n",
    "\n",
    "def CentralMoment(xs, k):\n",
    "    mean = RawMoment(xs, 1)\n",
    "    return sum((x - mean)**k for x in xs) / len(xs)\n",
    "\n",
    "def PearsonMedianSkewness(xs):\n",
    "    median = Median(xs)\n",
    "    mean = RawMoment(xs, 1)\n",
    "    var = CentralMoment(xs, 2)\n",
    "    std = np.sqrt(var)\n",
    "    gp = 3 * (mean - median) / std\n",
    "    return gp\n",
    "\n",
    "def InterpolateSample(df, log_upper):    \n",
    "    # compute the log10 of the upper bound for each range\n",
    "    df['log_upper'] = np.log10(df.income)\n",
    "\n",
    "    # get the lower bounds by shifting the upper bound and filling in\n",
    "    # the first element\n",
    "    df['log_lower'] = df.log_upper.shift(1)\n",
    "    df.loc[0, 'log_lower'] = 3\n",
    "\n",
    "    # plug in a value for the unknown upper bound of the highest range\n",
    "    df.loc[41, 'log_upper'] = log_upper\n",
    "    \n",
    "    # use the freq column to generate the right number of values in\n",
    "    # each range\n",
    "    arrays = []\n",
    "    for _, row in df.iterrows():\n",
    "        vals = np.linspace(row.log_lower, row.log_upper, int(row.freq))\n",
    "        #vals = np.linspace(row.log_lower, row.log_upper, int(abc))\n",
    "        #vals = row.log_lower,\"#\",row.log_upper,\"#\",row.freq\n",
    "        arrays.append(vals)\n",
    "\n",
    "    # collect the arrays into a single sample\n",
    "    log_sample = np.concatenate(arrays)\n",
    "    return log_sample\n",
    "\n",
    "income_df = hinc.ReadData()\n",
    "#print(income_df)\n",
    "log_upper = 6.0\n",
    "log_sample = InterpolateSample(income_df, log_upper)\n",
    "#print(log_sample)\n",
    "log_cdf = thinkstats2.Cdf(log_sample)\n",
    "thinkplot.Cdf(log_cdf)\n",
    "thinkplot.Config(xlabel='Household income (log $)',ylabel='CDF')"
   ]
  },
  {
   "cell_type": "code",
   "execution_count": 53,
   "metadata": {},
   "outputs": [
    {
     "data": {
      "image/png": "[encoded data removed]",
      "text/plain": [
       "<Figure size 432x288 with 1 Axes>"
      ]
     },
     "metadata": {
      "needs_background": "light"
     },
     "output_type": "display_data"
    }
   ],
   "source": [
    "sample = np.power(10, log_sample)\n",
    "cdf = thinkstats2.Cdf(sample)\n",
    "thinkplot.Cdf(cdf)\n",
    "thinkplot.Config(xlabel='Household income ($)',ylabel='CDF')"
   ]
  },
  {
   "cell_type": "code",
   "execution_count": 54,
   "metadata": {},
   "outputs": [
    {
     "name": "stdout",
     "output_type": "stream",
     "text": [
      "Mean:  74278.70753118733\n",
      "Median: 51226.45447894046\n",
      "Skewness:  4.949920244429583\n",
      "PearsonMedianSkewness:  0.7361258019141782\n",
      "Fraction of households report a taxable income below the mean: 0.660005879566872\n"
     ]
    }
   ],
   "source": [
    "# Compute the median, mean, skewness and Pearson’s skewness of the resulting sample. \n",
    "# What fraction of households report a taxable income below the mean? \n",
    "# How do the results depend on the assumed upper bound?\n",
    "\n",
    "print(\"Mean: \", Mean(sample)) \n",
    "print(\"Median:\", Median(sample))\n",
    "print(\"Skewness: \", Skewness(sample))\n",
    "print(\"PearsonMedianSkewness: \", PearsonMedianSkewness(sample))\n",
    "print(\"Fraction of households report a taxable income below the mean:\", cdf.Prob(Mean(sample)))\n"
   ]
  },
  {
   "cell_type": "code",
   "execution_count": null,
   "metadata": {},
   "outputs": [],
   "source": []
  }
 ],
 "metadata": {
  "kernelspec": {
   "display_name": "Python 3",
   "language": "python",
   "name": "python3"
  },
  "language_info": {
   "codemirror_mode": {
    "name": "ipython",
    "version": 3
   },
   "file_extension": ".py",
   "mimetype": "text/x-python",
   "name": "python",
   "nbconvert_exporter": "python",
   "pygments_lexer": "ipython3",
   "version": "3.8.5"
  }
 },
 "nbformat": 4,
 "nbformat_minor": 4
}
