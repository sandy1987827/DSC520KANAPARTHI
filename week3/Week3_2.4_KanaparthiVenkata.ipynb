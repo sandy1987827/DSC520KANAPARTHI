{
 "cells": [
  {
   "cell_type": "code",
   "execution_count": 20,
   "metadata": {},
   "outputs": [
    {
     "name": "stdout",
     "output_type": "stream",
     "text": [
      "Babies born first are lighter than Others as per the sample data\n",
      "Cohens d value:  7.094677616618098\n"
     ]
    }
   ],
   "source": [
    "\"\"\"\n",
    "# Assignment: ASSIGNMENT 3\n",
    "# Name: Kanaparthi, Venkata\n",
    "# Date: 2021-04-03\n",
    "\"\"\"\n",
    "\n",
    "import nsfg\n",
    "import math\n",
    "\n",
    "preg = nsfg.ReadFemPreg()\n",
    "total_live = preg[preg.outcome == 1]\n",
    "#print(len(total_live))\n",
    "total_firsts = total_live[total_live.birthord == 1]\n",
    "#print(len(total_firsts))\n",
    "total_others = total_live[total_live.birthord != 1]\n",
    "#print(len(total_others))\n",
    "\n",
    "#print(len(total_firsts) + len(total_others))\n",
    "\n",
    "firsts_mean = total_firsts.totalwgt_lb.mean()\n",
    "others_mean = total_others.totalwgt_lb.mean()\n",
    "\n",
    "firsts_var = total_firsts.totalwgt_lb.var()\n",
    "others_var = total_others.totalwgt_lb.var()\n",
    "\n",
    "#print(firsts_mean)\n",
    "#print(others_mean)\n",
    "\n",
    "#print(firsts_var)\n",
    "#print(others_var)\n",
    "\n",
    "if firsts_mean > others_mean:\n",
    "    print('Babies born first are heavier than Others as per the sample data')\n",
    "elif firsts_mean == others_mean :\n",
    "    print('Babies born first are same as Others as per the sample data')\n",
    "else:\n",
    "    print('Babies born first are lighter than Others as per the sample data')\n",
    "\n",
    "pooled_var = (firsts_var*len(total_firsts) + others_var*len(total_others))/len(total_firsts) + len(total_others)\n",
    "cohensD = firsts_mean - others_mean / math.sqrt(pooled_var)\n",
    "print('Cohen''s d value: ',cohensD)\n",
    "\n",
    "\n"
   ]
  },
  {
   "cell_type": "code",
   "execution_count": null,
   "metadata": {},
   "outputs": [],
   "source": []
  }
 ],
 "metadata": {
  "kernelspec": {
   "display_name": "Python 3",
   "language": "python",
   "name": "python3"
  },
  "language_info": {
   "codemirror_mode": {
    "name": "ipython",
    "version": 3
   },
   "file_extension": ".py",
   "mimetype": "text/x-python",
   "name": "python",
   "nbconvert_exporter": "python",
   "pygments_lexer": "ipython3",
   "version": "3.8.5"
  }
 },
 "nbformat": 4,
 "nbformat_minor": 4
}
