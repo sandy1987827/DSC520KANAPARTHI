{
 "cells": [
  {
   "cell_type": "code",
   "execution_count": 11,
   "metadata": {},
   "outputs": [
    {
     "data": {
      "text/plain": [
       "5515    6.0\n",
       "Name: totalwgt_lb, dtype: float64"
      ]
     },
     "execution_count": 11,
     "metadata": {},
     "output_type": "execute_result"
    }
   ],
   "source": [
    "\"\"\"\n",
    "# Assignment: ASSIGNMENT 3\n",
    "# Name: Kanaparthi, Venkata\n",
    "# Date: 2021-04-03\n",
    "\"\"\"\n",
    "import nsfg\n",
    "\n",
    "preg = nsfg.ReadFemPreg()\n",
    "#preg.head()\n",
    "preg.birthord.value_counts().sort_index()\n",
    "preg.prglngth.value_counts().sort_index()\n",
    "preg['totalwgt_kg'] = preg.totalwgt_lb/2.2\n",
    "preg.totalwgt_kg.mean()\n",
    "\n",
    "resp = nsfg.ReadFemResp()\n",
    "resp.age_r.value_counts().sort_index()\n",
    "resp[resp.caseid==1].age_r\n",
    "\n",
    "preg[preg.caseid==2298].prglngth\n",
    "preg[preg.caseid==5012].totalwgt_lb"
   ]
  },
  {
   "cell_type": "code",
   "execution_count": null,
   "metadata": {},
   "outputs": [],
   "source": []
  },
  {
   "cell_type": "code",
   "execution_count": null,
   "metadata": {},
   "outputs": [],
   "source": []
  },
  {
   "cell_type": "code",
   "execution_count": null,
   "metadata": {},
   "outputs": [],
   "source": []
  }
 ],
 "metadata": {
  "kernelspec": {
   "display_name": "Python 3",
   "language": "python",
   "name": "python3"
  },
  "language_info": {
   "codemirror_mode": {
    "name": "ipython",
    "version": 3
   },
   "file_extension": ".py",
   "mimetype": "text/x-python",
   "name": "python",
   "nbconvert_exporter": "python",
   "pygments_lexer": "ipython3",
   "version": "3.8.5"
  }
 },
 "nbformat": 4,
 "nbformat_minor": 4
}
