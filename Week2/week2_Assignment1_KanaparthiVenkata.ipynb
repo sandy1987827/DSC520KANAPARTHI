{
 "cells": [
  {
   "cell_type": "code",
   "execution_count": 7,
   "metadata": {},
   "outputs": [
    {
     "name": "stdout",
     "output_type": "stream",
     "text": [
      "Hello World! I wonder why that is always the default coding text to start with\n",
      "3\n",
      "1\n",
      "6\n",
      "2.0\n",
      "Hello World\n",
      "[1, 2, 3, 4]\n",
      "[1, 2, 3, 4, 5]\n",
      "('Hello', 'World', 'Week', 'Two')\n"
     ]
    }
   ],
   "source": [
    "# Assignment: Week2, ASSIGNMENT 1\n",
    "# Name: Kanaparthi, Venkata\n",
    "# Date: 2021-03-27\n",
    "\n",
    "# Display the text “Hello World! I wonder why that is always the default coding text to start with”\n",
    "print('Hello World! I wonder why that is always the default coding text to start with')\n",
    "\n",
    "# Add two numbers together\n",
    "x=1+2\n",
    "print(x)\n",
    "\n",
    "# Subtract a number from another number\n",
    "x=2-1\n",
    "print(x)\n",
    "\n",
    "# Multiply two numbers\n",
    "x=2*3\n",
    "print(x)\n",
    "\n",
    "# Divide between two numbers\n",
    "x=6/3\n",
    "print(x)\n",
    "\n",
    "# Concatenate two strings together (any words)\n",
    "x='Hello'+' '+'World'\n",
    "print(x)\n",
    "\n",
    "# Create a list of 4 items (can be strings, numbers, both)\n",
    "listEx=[1,2,3,4]\n",
    "print(listEx)\n",
    "\n",
    "# Append an item to your list (again, can be a string, number)\n",
    "listEx.append(5)\n",
    "print(listEx)\n",
    "\n",
    "# Create a tuple with 4 items (can be strings, numbers, both)\n",
    "tupleEx=('Hello','World','Week','Two')\n",
    "print(tupleEx)"
   ]
  },
  {
   "cell_type": "code",
   "execution_count": null,
   "metadata": {},
   "outputs": [],
   "source": []
  }
 ],
 "metadata": {
  "kernelspec": {
   "display_name": "Python 3",
   "language": "python",
   "name": "python3"
  },
  "language_info": {
   "codemirror_mode": {
    "name": "ipython",
    "version": 3
   },
   "file_extension": ".py",
   "mimetype": "text/x-python",
   "name": "python",
   "nbconvert_exporter": "python",
   "pygments_lexer": "ipython3",
   "version": "3.8.5"
  }
 },
 "nbformat": 4,
 "nbformat_minor": 4
}
